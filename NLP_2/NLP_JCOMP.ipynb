{
  "cells": [
    {
      "cell_type": "code",
      "execution_count": 2,
      "metadata": {
        "id": "lnBHPCMeCoGF"
      },
      "outputs": [],
      "source": [
        "import pandas as pd\n",
        "import os"
      ]
    },
    {
      "cell_type": "code",
      "execution_count": 3,
      "metadata": {
        "colab": {
          "base_uri": "https://localhost:8080/"
        },
        "id": "0IlDg1w0DfcG",
        "outputId": "898347b7-035c-4f60-a307-d2dcbdb654bf"
      },
      "outputs": [
        {
          "data": {
            "text/plain": [
              "['.git',\n",
              " 'final_model.sav',\n",
              " 'NLP_JCOMP.ipynb',\n",
              " 'TamilNLP',\n",
              " 'test.py',\n",
              " 'train.csv',\n",
              " 'values.txt',\n",
              " 'y_values.csv']"
            ]
          },
          "execution_count": 3,
          "metadata": {},
          "output_type": "execute_result"
        }
      ],
      "source": [
        "os.listdir()"
      ]
    },
    {
      "cell_type": "code",
      "execution_count": 5,
      "metadata": {
        "id": "AZ_Qcv31Dht9"
      },
      "outputs": [],
      "source": [
        "data = pd.read_csv(\"train.csv\")\n",
        "y = pd.read_csv(\"y_values.csv\")"
      ]
    },
    {
      "cell_type": "code",
      "execution_count": 12,
      "metadata": {},
      "outputs": [
        {
          "name": "stdout",
          "output_type": "stream",
          "text": [
            "2003\n",
            "2003\n"
          ]
        }
      ],
      "source": [
        "print(data.shape[0])\n",
        "print(y.shape[0])"
      ]
    },
    {
      "cell_type": "code",
      "execution_count": 7,
      "metadata": {
        "colab": {
          "base_uri": "https://localhost:8080/",
          "height": 206
        },
        "id": "xJ_5CyioyT51",
        "outputId": "5f0a2e71-9f4f-4f90-851c-3e9991e90c9d"
      },
      "outputs": [
        {
          "name": "stdout",
          "output_type": "stream",
          "text": [
            "   first_sentence  words  gender  tense  pronouns  prepositions  nouns  \\\n",
            "0               1     38       0      0         0             0      8   \n",
            "1               0     23       0      0         0             0      3   \n",
            "2               0      9       1      1         0             0      1   \n",
            "3               0      9       0      0         0             0      0   \n",
            "4               0      4       0      0         0             0      1   \n",
            "\n",
            "   ambi_nouns  verbs  digits  \n",
            "0           0      3       0  \n",
            "1           0      0       0  \n",
            "2           0      0       0  \n",
            "3           0      0       0  \n",
            "4           0      0       0  \n",
            "   summarize\n",
            "0          1\n",
            "1          0\n",
            "2          0\n",
            "3          0\n",
            "4          0\n"
          ]
        }
      ],
      "source": [
        "print(data.head())\n",
        "print(y.head())"
      ]
    },
    {
      "cell_type": "code",
      "execution_count": 9,
      "metadata": {
        "colab": {
          "base_uri": "https://localhost:8080/"
        },
        "id": "2tx7SByqOb1K",
        "outputId": "db22963c-6fe0-4786-ec5a-ce6a16cf7e75"
      },
      "outputs": [
        {
          "name": "stdout",
          "output_type": "stream",
          "text": [
            "Requirement already satisfied: scikit-learn in c:\\users\\akshaya\\appdata\\local\\programs\\python\\python310\\lib\\site-packages (1.2.2)\n",
            "Requirement already satisfied: joblib>=1.1.1 in c:\\users\\akshaya\\appdata\\local\\programs\\python\\python310\\lib\\site-packages (from scikit-learn) (1.2.0)\n",
            "Requirement already satisfied: threadpoolctl>=2.0.0 in c:\\users\\akshaya\\appdata\\local\\programs\\python\\python310\\lib\\site-packages (from scikit-learn) (3.1.0)\n",
            "Requirement already satisfied: numpy>=1.17.3 in c:\\users\\akshaya\\appdata\\local\\programs\\python\\python310\\lib\\site-packages (from scikit-learn) (1.24.1)\n",
            "Requirement already satisfied: scipy>=1.3.2 in c:\\users\\akshaya\\appdata\\local\\programs\\python\\python310\\lib\\site-packages (from scikit-learn) (1.10.1)\n",
            "Note: you may need to restart the kernel to use updated packages.\n"
          ]
        }
      ],
      "source": [
        "pip install scikit-learn"
      ]
    },
    {
      "cell_type": "code",
      "execution_count": 11,
      "metadata": {
        "id": "gtSgUGbsOoVY"
      },
      "outputs": [],
      "source": [
        "from sklearn.neural_network import MLPClassifier\n",
        "from sklearn.model_selection import train_test_split"
      ]
    },
    {
      "cell_type": "markdown",
      "metadata": {
        "id": "dMND1u4w88Np"
      },
      "source": [
        "**X and Y Split**"
      ]
    },
    {
      "cell_type": "code",
      "execution_count": 16,
      "metadata": {
        "colab": {
          "base_uri": "https://localhost:8080/"
        },
        "id": "vuoJy1l76cCL",
        "outputId": "47a7d098-1d26-4362-c683-c8171942b011"
      },
      "outputs": [],
      "source": [
        "cols = data.shape[1]\n",
        "\n",
        "X = data.iloc[:,0:cols]\n",
        "Y = y.iloc[:,0:cols]"
      ]
    },
    {
      "cell_type": "code",
      "execution_count": 17,
      "metadata": {},
      "outputs": [
        {
          "name": "stdout",
          "output_type": "stream",
          "text": [
            "(2003, 10)\n",
            "(2003, 1)\n"
          ]
        }
      ],
      "source": [
        "print(X.shape)\n",
        "print(Y.shape)"
      ]
    },
    {
      "cell_type": "markdown",
      "metadata": {
        "id": "vPlajw_b9BdA"
      },
      "source": [
        "**Train Test Split**"
      ]
    },
    {
      "cell_type": "code",
      "execution_count": 18,
      "metadata": {
        "id": "bQK4aFgz6lPx"
      },
      "outputs": [],
      "source": [
        "X_train, X_test, y_train, y_test = train_test_split(X,Y,test_size=0.3,stratify=Y,random_state=1)"
      ]
    },
    {
      "cell_type": "markdown",
      "metadata": {
        "id": "MNkcyELiKNAL"
      },
      "source": [
        "**Training with 2 hidden layers and 1000 epochs**"
      ]
    },
    {
      "cell_type": "code",
      "execution_count": 19,
      "metadata": {
        "colab": {
          "base_uri": "https://localhost:8080/"
        },
        "id": "smIEav_BKQu9",
        "outputId": "306962b9-6478-45eb-cff9-6ebfe6aca90f"
      },
      "outputs": [
        {
          "name": "stderr",
          "output_type": "stream",
          "text": [
            "c:\\Users\\Akshaya\\AppData\\Local\\Programs\\Python\\Python310\\lib\\site-packages\\sklearn\\neural_network\\_multilayer_perceptron.py:1098: DataConversionWarning: A column-vector y was passed when a 1d array was expected. Please change the shape of y to (n_samples, ), for example using ravel().\n",
            "  y = column_or_1d(y, warn=True)\n"
          ]
        },
        {
          "name": "stdout",
          "output_type": "stream",
          "text": [
            "Accuracy = 99.00166389351082%\n",
            "Epochs : 1000\n"
          ]
        }
      ],
      "source": [
        "mlp = MLPClassifier(hidden_layer_sizes=(100,100),activation='logistic',max_iter=1000,random_state=1)\n",
        "\n",
        "mlp.fit(X_train, y_train)\n",
        "\n",
        "y = mlp.predict(X_test)\n",
        "\n",
        "print(\"Accuracy = \"+str(mlp.score(X_test,y_test)*100)+\"%\")\n",
        "print(\"Epochs : 1000\")"
      ]
    },
    {
      "cell_type": "code",
      "execution_count": 20,
      "metadata": {
        "colab": {
          "base_uri": "https://localhost:8080/"
        },
        "id": "8NprkQ5V7W22",
        "outputId": "6f1f0eb1-3126-4d57-d415-d196bfcbcfb7"
      },
      "outputs": [
        {
          "name": "stdout",
          "output_type": "stream",
          "text": [
            "[[2.56538329e-03 9.97434617e-01]\n",
            " [9.95987190e-01 4.01280980e-03]\n",
            " [9.96044034e-01 3.95596647e-03]\n",
            " ...\n",
            " [6.26636947e-01 3.73363053e-01]\n",
            " [8.60826386e-01 1.39173614e-01]\n",
            " [2.56118927e-04 9.99743881e-01]]\n"
          ]
        }
      ],
      "source": [
        "#probability of a sentence being included in the summary\n",
        "\n",
        "probs = mlp.predict_proba(X)\n",
        "\n",
        "for i in range(len(probs)):\n",
        "  probs[i] = probs[i]\n",
        "\n",
        "print(probs)"
      ]
    },
    {
      "cell_type": "markdown",
      "metadata": {
        "id": "jVh0INg99jEx"
      },
      "source": [
        "**save the model**"
      ]
    },
    {
      "cell_type": "code",
      "execution_count": 62,
      "metadata": {
        "id": "G2Awp8-W9TCn"
      },
      "outputs": [],
      "source": [
        "import pickle\n",
        "\n",
        "filename = 'final_model.sav'\n",
        "pickle.dump(mlp, open(filename, 'wb'))"
      ]
    }
  ],
  "metadata": {
    "colab": {
      "provenance": []
    },
    "kernelspec": {
      "display_name": "Python 3",
      "language": "python",
      "name": "python3"
    },
    "language_info": {
      "codemirror_mode": {
        "name": "ipython",
        "version": 3
      },
      "file_extension": ".py",
      "mimetype": "text/x-python",
      "name": "python",
      "nbconvert_exporter": "python",
      "pygments_lexer": "ipython3",
      "version": "3.10.2"
    },
    "vscode": {
      "interpreter": {
        "hash": "f6ae9b094231ccacd11e0ebddc68319723701a7a82756f7f24e8a31f49d765ab"
      }
    }
  },
  "nbformat": 4,
  "nbformat_minor": 0
}
